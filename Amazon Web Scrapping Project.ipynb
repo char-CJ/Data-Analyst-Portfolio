{
 "cells": [
  {
   "cell_type": "code",
   "execution_count": 1,
   "metadata": {},
   "outputs": [],
   "source": [
    "#Get price updates on a specific product on amazon.ca \n",
    "#Web Scrapping using Python\n",
    "\n",
    "# import libraries \n",
    "\n",
    "from bs4 import BeautifulSoup\n",
    "import requests\n",
    "import time\n",
    "import datetime\n",
    "\n",
    "import smtplib\n"
   ]
  },
  {
   "cell_type": "code",
   "execution_count": 13,
   "metadata": {},
   "outputs": [
    {
     "name": "stdout",
     "output_type": "stream",
     "text": [
      "\n",
      "            Makita XPH14Z 18V LXT® Lithium-Ion Brushless Cordless 1/2\" Hammer Driver-Drill, Tool Only\n",
      "           \n",
      "\n",
      "                        $296.99\n",
      "                       \n"
     ]
    }
   ],
   "source": [
    "# Connect to Website and pull in data\n",
    "# Note - Using Amazon.ca so prices in CAD\n",
    "\n",
    "URL = 'https://www.amazon.ca/Makita-XPH14Z-Lithium-Ion-Brushless-Driver-Drill/dp/B08VN5TKVR/ref=sr_1_15?crid=2WQ27421SBYZV&keywords=makita+hammer+drill+brushless&qid=1669166804&qu=eyJxc2MiOiIyLjY5IiwicXNhIjoiMi4zMiIsInFzcCI6IjEuMDAifQ%3D%3D&sprefix=makita+hamme%2Caps%2C133&sr=8-15'\n",
    "\n",
    "headers = {\"User-Agent\": \"Mozilla/5.0 (Windows NT 10.0; Win64; x64) AppleWebKit/537.36 (KHTML, like Gecko) Chrome/107.0.0.0 Safari/537.36\", \"Accept-Encoding\":\"gzip, deflate\", \"Accept\":\"text/html,application/xhtml+xml,application/xml;q=0.9,*/*;q=0.8\", \"DNT\":\"1\",\"Connection\":\"close\", \"Upgrade-Insecure-Requests\":\"1\"}\n",
    "\n",
    "page = requests.get(URL, headers=headers)\n",
    "\n",
    "soup1 = BeautifulSoup(page.content, \"html.parser\")\n",
    "\n",
    "soup2 = BeautifulSoup(soup1.prettify(), \"html.parser\")\n",
    "\n",
    "title = soup2.find(id='productTitle').get_text()\n",
    "\n",
    "price = soup2.find('span', {'class':'a-offscreen'}).get_text()\n",
    "\n",
    "\n",
    "print(title)\n",
    "print(price)\n",
    "              \n",
    "              "
   ]
  },
  {
   "cell_type": "code",
   "execution_count": 14,
   "metadata": {},
   "outputs": [
    {
     "name": "stdout",
     "output_type": "stream",
     "text": [
      "Makita XPH14Z 18V LXT® Lithium-Ion Brushless Cordless 1/2\" Hammer Driver-Drill, Tool Only\n",
      "296.99\n"
     ]
    }
   ],
   "source": [
    "# Clean up the data a little bit\n",
    "\n",
    "price = price.strip()[1:]\n",
    "title = title.strip()\n",
    "\n",
    "print(title)\n",
    "print(price)"
   ]
  },
  {
   "cell_type": "code",
   "execution_count": 16,
   "metadata": {},
   "outputs": [
    {
     "name": "stdout",
     "output_type": "stream",
     "text": [
      "2022-11-24\n"
     ]
    }
   ],
   "source": [
    "# Create a Timestamp for your output to track when data was collected\n",
    "\n",
    "import datetime\n",
    "\n",
    "today = datetime.date.today()\n",
    "\n",
    "print(today)"
   ]
  },
  {
   "cell_type": "code",
   "execution_count": 17,
   "metadata": {},
   "outputs": [],
   "source": [
    "# Create CSV and write headers(Title, Price, Date) and data into the file\n",
    "\n",
    "import csv \n",
    "\n",
    "header = ['Title', 'Price', 'Date']\n",
    "data = [title, price, today]\n",
    "\n",
    "\n",
    "with open('AmazonWebScraperDataset.csv', 'w', newline='', encoding='UTF8') as f:\n",
    "    writer = csv.writer(f)\n",
    "    writer.writerow(header)\n",
    "    writer.writerow(data)\n",
    "    "
   ]
  },
  {
   "cell_type": "code",
   "execution_count": 20,
   "metadata": {},
   "outputs": [
    {
     "name": "stdout",
     "output_type": "stream",
     "text": [
      "                                               Title   Price        Date\n",
      "0  Makita XPH14Z 18V LXT® Lithium-Ion Brushless C...  296.99  2022-11-24\n",
      "1  Makita XPH14Z 18V LXT® Lithium-Ion Brushless C...  296.99  2022-11-24\n"
     ]
    }
   ],
   "source": [
    "#Read the data from the CSV file we created\n",
    "import pandas as pd\n",
    "\n",
    "df = pd.read_csv(r'C:\\Users\\Charith Gamage\\AmazonWebScraperDataset.csv')\n",
    "\n",
    "print(df)"
   ]
  },
  {
   "cell_type": "code",
   "execution_count": 19,
   "metadata": {},
   "outputs": [],
   "source": [
    "#Appending data to the csv, very day new row will be added with title, price and date\n",
    "\n",
    "with open('AmazonWebScraperDataset.csv', 'a+', newline='', encoding='UTF8') as f:\n",
    "    writer = csv.writer(f)\n",
    "    writer.writerow(data)"
   ]
  },
  {
   "cell_type": "code",
   "execution_count": 21,
   "metadata": {},
   "outputs": [],
   "source": [
    "#Put everything into one function\n",
    "\n",
    "\n",
    "def check_price():\n",
    "    URL = 'https://www.amazon.ca/Makita-XPH14Z-Lithium-Ion-Brushless-Driver-Drill/dp/B08VN5TKVR/ref=sr_1_15?crid=2WQ27421SBYZV&keywords=makita+hammer+drill+brushless&qid=1669166804&qu=eyJxc2MiOiIyLjY5IiwicXNhIjoiMi4zMiIsInFzcCI6IjEuMDAifQ%3D%3D&sprefix=makita+hamme%2Caps%2C133&sr=8-15'\n",
    "\n",
    "    headers = {\"User-Agent\": \"Mozilla/5.0 (Windows NT 10.0; Win64; x64) AppleWebKit/537.36 (KHTML, like Gecko) Chrome/107.0.0.0 Safari/537.36\", \"Accept-Encoding\":\"gzip, deflate\", \"Accept\":\"text/html,application/xhtml+xml,application/xml;q=0.9,*/*;q=0.8\", \"DNT\":\"1\",\"Connection\":\"close\", \"Upgrade-Insecure-Requests\":\"1\"}\n",
    "\n",
    "    page = requests.get(URL, headers=headers)\n",
    "\n",
    "    soup1 = BeautifulSoup(page.content, \"html.parser\")\n",
    "\n",
    "    soup2 = BeautifulSoup(soup1.prettify(), \"html.parser\")\n",
    "\n",
    "    title = soup2.find(id='productTitle').get_text()\n",
    "\n",
    "    price = soup2.find('span', {'class':'a-offscreen'}).get_text()\n",
    "\n",
    "\n",
    "    price = price.strip()[1:]\n",
    "    title = title.strip()\n",
    "\n",
    "    import datetime\n",
    "\n",
    "    today = datetime.date.today()\n",
    "    \n",
    "    import csv \n",
    "\n",
    "    header = ['Title', 'Price', 'Date']\n",
    "    data = [title, price, today]\n",
    "\n",
    "    with open('AmazonWebScraperDataset.csv', 'a+', newline='', encoding='UTF8') as f:\n",
    "        writer = csv.writer(f)\n",
    "        writer.writerow(data)\n",
    "    \n",
    "    #Email yourself when price drops below certain price\n",
    "    #if (price < 150):\n",
    "        #send_mail()"
   ]
  },
  {
   "cell_type": "code",
   "execution_count": 25,
   "metadata": {},
   "outputs": [
    {
     "ename": "KeyboardInterrupt",
     "evalue": "",
     "output_type": "error",
     "traceback": [
      "\u001b[1;31m---------------------------------------------------------------------------\u001b[0m",
      "\u001b[1;31mKeyboardInterrupt\u001b[0m                         Traceback (most recent call last)",
      "\u001b[1;32m<ipython-input-25-7c2a1cdd7ba5>\u001b[0m in \u001b[0;36m<module>\u001b[1;34m\u001b[0m\n\u001b[0;32m      4\u001b[0m \u001b[1;32mwhile\u001b[0m\u001b[1;33m(\u001b[0m\u001b[1;32mTrue\u001b[0m\u001b[1;33m)\u001b[0m\u001b[1;33m:\u001b[0m\u001b[1;33m\u001b[0m\u001b[1;33m\u001b[0m\u001b[0m\n\u001b[0;32m      5\u001b[0m     \u001b[0mcheck_price\u001b[0m\u001b[1;33m(\u001b[0m\u001b[1;33m)\u001b[0m\u001b[1;33m\u001b[0m\u001b[1;33m\u001b[0m\u001b[0m\n\u001b[1;32m----> 6\u001b[1;33m     \u001b[0mtime\u001b[0m\u001b[1;33m.\u001b[0m\u001b[0msleep\u001b[0m\u001b[1;33m(\u001b[0m\u001b[1;36m5\u001b[0m\u001b[1;33m)\u001b[0m\u001b[1;33m\u001b[0m\u001b[1;33m\u001b[0m\u001b[0m\n\u001b[0m\u001b[0;32m      7\u001b[0m \u001b[1;33m\u001b[0m\u001b[0m\n",
      "\u001b[1;31mKeyboardInterrupt\u001b[0m: "
     ]
    }
   ],
   "source": [
    "# Runs check_price every 24 hours and inputs data into your CSV\n",
    "# 86400 is 24 hours in seconds\n",
    "\n",
    "while(True):\n",
    "    check_price()\n",
    "    time.sleep(86400)\n",
    "    \n"
   ]
  },
  {
   "cell_type": "code",
   "execution_count": 27,
   "metadata": {},
   "outputs": [
    {
     "name": "stdout",
     "output_type": "stream",
     "text": [
      "                                               Title   Price        Date\n",
      "0  Makita XPH14Z 18V LXT® Lithium-Ion Brushless C...  296.99  2022-11-24\n",
      "1  Makita XPH14Z 18V LXT® Lithium-Ion Brushless C...  296.99  2022-11-24\n",
      "2  Makita XPH14Z 18V LXT® Lithium-Ion Brushless C...  296.99  2022-11-24\n",
      "3  Makita XPH14Z 18V LXT® Lithium-Ion Brushless C...  296.99  2022-11-24\n",
      "4  Makita XPH14Z 18V LXT® Lithium-Ion Brushless C...  296.99  2022-11-24\n",
      "5  Makita XPH14Z 18V LXT® Lithium-Ion Brushless C...  296.99  2022-11-24\n"
     ]
    }
   ],
   "source": [
    "#Read the data from the CSV file we created\n",
    "import pandas as pd\n",
    "\n",
    "df = pd.read_csv(r'C:\\Users\\Charith Gamage\\AmazonWebScraperDataset.csv')\n",
    "\n",
    "print(df)"
   ]
  },
  {
   "cell_type": "code",
   "execution_count": null,
   "metadata": {},
   "outputs": [],
   "source": [
    "# when a price goes below your desired price send yourself an email\n",
    "\n",
    "def send_mail():\n",
    "    server = smtplib.SMTP_SSL('smtp.gmail.com',465)\n",
    "    server.ehlo()\n",
    "    #server.starttls()\n",
    "    server.ehlo()\n",
    "    server.login('youremail@gmail.com','your email password')\n",
    "    \n",
    "    subject = \"The makita hammer drill you want is now below $150!\"\n",
    "    body = \"Buy this drill now via this link- https://www.amazon.ca/Makita-XPH14Z-Lithium-Ion-Brushless-Driver-Drill/dp/B08VN5TKVR/ref=sr_1_15?crid=2WQ27421SBYZV&keywords=makita+hammer+drill+brushless&qid=1669166804&qu=eyJxc2MiOiIyLjY5IiwicXNhIjoiMi4zMiIsInFzcCI6IjEuMDAifQ%3D%3D&sprefix=makita+hamme%2Caps%2C133&sr=8-15'\n",
    "    msg = f\"Subject: {subject}\\n\\n{body}\"\n",
    "    \n",
    "    server.sendmail(\n",
    "        'youremail@gmail.com',\n",
    "        msg\n",
    "     \n",
    "    )"
   ]
  }
 ],
 "metadata": {
  "kernelspec": {
   "display_name": "Python 3",
   "language": "python",
   "name": "python3"
  },
  "language_info": {
   "codemirror_mode": {
    "name": "ipython",
    "version": 3
   },
   "file_extension": ".py",
   "mimetype": "text/x-python",
   "name": "python",
   "nbconvert_exporter": "python",
   "pygments_lexer": "ipython3",
   "version": "3.8.5"
  }
 },
 "nbformat": 4,
 "nbformat_minor": 4
}
